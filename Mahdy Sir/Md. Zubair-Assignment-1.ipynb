{
 "cells": [
  {
   "cell_type": "markdown",
   "id": "e72112a4",
   "metadata": {},
   "source": [
    "### Question - 1"
   ]
  },
  {
   "cell_type": "code",
   "execution_count": 9,
   "id": "7d00cb74",
   "metadata": {},
   "outputs": [
    {
     "name": "stdout",
     "output_type": "stream",
     "text": [
      "Enter a sentence: hey there this is zubair\n",
      " vowel = e and occurence = 3\n",
      " vowel = i and occurence = 3\n",
      " vowel = u and occurence = 1\n",
      " vowel = a and occurence = 1\n"
     ]
    }
   ],
   "source": [
    "def vowel_identifier(sentence): # Defined a function\n",
    "    \n",
    "    vowels = ['a','e','i','o','u'] # a list consisting vowels\n",
    "    \n",
    "    \n",
    "    for i in set(sentence): # for unique character listing\n",
    "        \n",
    "        if i.lower() in vowels: # checking whether unique char is vowel or not\n",
    "            \n",
    "            print( f' vowel = {i} and occurence = {sentence.count(i)}')  # using f string for formatted printing\n",
    "\n",
    "\n",
    "sentence = input(\"Enter a sentence: \") # Taking a sentence input\n",
    "\n",
    "vowel_identifier(sentence) # calling the function\n",
    "    \n",
    "    \n",
    "    "
   ]
  },
  {
   "cell_type": "markdown",
   "id": "307398c8",
   "metadata": {},
   "source": [
    "###  Question - 2"
   ]
  },
  {
   "cell_type": "code",
   "execution_count": 12,
   "id": "dff8cc01",
   "metadata": {},
   "outputs": [
    {
     "name": "stdout",
     "output_type": "stream",
     "text": [
      "Enter a sentence: vegetable is good for health\n",
      "Original Sentence:  vegetable is good for health\n",
      "\n",
      "Censored Word:  vegetable\n",
      "Modified Sentence:  meat is good for health\n"
     ]
    }
   ],
   "source": [
    "# For placeholder I will be using as two stars (meat)\n",
    "\n",
    "def censor_sentence(sentence): # Defining the function\n",
    "    \n",
    "    censored_word = 'vegetable' # bcz i don't like vegetable at all, only meat lover\n",
    "    \n",
    "    print('Original Sentence: ',sentence) # Printing the original sentence\n",
    "    \n",
    "    print() # for a blank line before next print\n",
    "    \n",
    "    if censored_word in sentence.lower(): # going through the sentence \n",
    "        \n",
    "        sentence = sentence.replace(censored_word,'meat') # replacing censor  word with placeholder\n",
    "        \n",
    "      \n",
    "    print('Censored Word: ',censored_word) # printing censored word\n",
    "    \n",
    "    print('Modified Sentence: ',sentence) # printing new modified sentence\n",
    "\n",
    "\n",
    "sentence = input('Enter a sentence: ') # taking sentence user input\n",
    "\n",
    "censor_sentence(sentence) # calling the function\n",
    "    \n",
    "    \n",
    "    "
   ]
  },
  {
   "cell_type": "markdown",
   "id": "356c85d3",
   "metadata": {},
   "source": [
    "### Question - 3"
   ]
  },
  {
   "cell_type": "code",
   "execution_count": 15,
   "id": "66978117",
   "metadata": {},
   "outputs": [
    {
     "name": "stdout",
     "output_type": "stream",
     "text": [
      "Enter student names(keeping space between): zubair rahat nur tawhid wahid\n",
      "Enter student scores(same order of inputted names): 88 78 62.2 52.5 40.5\n",
      "[('zubair', 'A'), ('rahat', 'B'), ('nur', 'C'), ('tawhid', 'D'), ('wahid', 'F')]\n"
     ]
    }
   ],
   "source": [
    "student_names = input(\"Enter student names(keeping space between): \").split() # Taking student names as input\n",
    "\n",
    "student_scores = list(map(float,input(\"Enter student scores(same order of inputted names): \").split())) #used map to apply float() to every word inputted to convert in float\n",
    "\n",
    "# for simplify taking 4 grades \n",
    "\n",
    "def scores(mark):\n",
    "    \"\"\" Providing the necessary condition for grader making\"\"\" # docstring \n",
    "    if (mark>=80 and mark<=100):\n",
    "        return 'A'\n",
    "    elif (mark>=70 and mark <80):\n",
    "        return 'B'\n",
    "    elif (mark>=60 and mark<70):\n",
    "        return 'C'\n",
    "    elif (mark>=50 and mark<60):\n",
    "        return 'D'\n",
    "    else:\n",
    "        return 'F'\n",
    "    \n",
    "student_marks = list(map(scores,student_scores)) # again applying the scores function to every data in the student_scores\n",
    "\n",
    "result = list(zip(student_names, student_marks)) # using zip to make a list of tuples\n",
    "\n",
    "print(result)\n"
   ]
  },
  {
   "cell_type": "markdown",
   "id": "c800e675",
   "metadata": {},
   "source": [
    "### Question-4"
   ]
  },
  {
   "cell_type": "code",
   "execution_count": 1,
   "id": "91e89592",
   "metadata": {},
   "outputs": [
    {
     "name": "stdout",
     "output_type": "stream",
     "text": [
      "How many tasks you wanna put ? -  3\n",
      "a) Wakeup (completed)\n",
      "b) Eat\n",
      "c) Sleep\n",
      "Completed Task:  ['wakeup']\n",
      "Pending Task:  ['eat', 'sleep']\n"
     ]
    }
   ],
   "source": [
    "\n",
    "task_num = int(input('How many tasks you wanna put ? -  ')) # for taking how many task to add\n",
    "\n",
    "to_do_list = [] # to store the tasks\n",
    "\n",
    "for i in range(task_num): # for creating a,b,c sequence\n",
    "    \n",
    "    char = 97+i # we know 97->'a', 98 -> 'b',...,etc\n",
    "    \n",
    "    to_do = input(f'{chr(char)}) ') \n",
    "    \n",
    "    to_do_list.append(to_do.lower()) # appending the tasks in the list\n",
    "\n",
    "\n",
    "completed_task = [] # to store only the completed one \n",
    "\n",
    "pending_task = [] # to store only the pending one\n",
    "\n",
    "for i in to_do_list:\n",
    "    \n",
    "    brack_occur = i.find('(') # finding index of the completed task ( bracket, to get the task name only\n",
    "    \n",
    "    if 'completed' in i:\n",
    "        completed_task.append(i[0:brack_occur].strip()) # to get only task name + removing spaces at the first and last if any\n",
    "    else:\n",
    "        pending_task.append(i) # otherwise appending to pending task\n",
    "\n",
    "print('Completed Task: ',completed_task)\n",
    "print('Pending Task: ',pending_task)    \n",
    "    \n",
    "    \n",
    "    "
   ]
  },
  {
   "cell_type": "markdown",
   "id": "288b6d82",
   "metadata": {},
   "source": [
    "### Question-5"
   ]
  },
  {
   "cell_type": "code",
   "execution_count": 2,
   "id": "6ebba59e",
   "metadata": {},
   "outputs": [
    {
     "name": "stdout",
     "output_type": "stream",
     "text": [
      "[20, 441, 22, 529, 24, 625, 26, 729, 28, 841, 30]\n"
     ]
    }
   ],
   "source": [
    "numbers_list = list(range(20,31)) # taking a list to do operation\n",
    "\n",
    "new_list = list(map(lambda x:x if x%2==0 else x**2 , numbers_list)) # used map to apply the lambda function in the created list\n",
    "\n",
    "print(new_list)"
   ]
  },
  {
   "cell_type": "markdown",
   "id": "9654a599",
   "metadata": {},
   "source": [
    "### Question-6"
   ]
  },
  {
   "cell_type": "code",
   "execution_count": 5,
   "id": "05e9bbcb",
   "metadata": {},
   "outputs": [
    {
     "name": "stdout",
     "output_type": "stream",
     "text": [
      "Enter set1 words: apple banana mango orange \n",
      "Enter set2 words: apple umbrella mango orange\n",
      "Jaccard similarity between two sets are:  0.6\n"
     ]
    }
   ],
   "source": [
    "def plagiarism_check(set1,set2): # defining the function\n",
    "    \n",
    "    intersection_size = len(set1 & set2) # using intersection operator\n",
    "    \n",
    "    union_size = len(set1 | set2) # using union operator\n",
    "    \n",
    "    jaccard_similarity = intersection_size / union_size if union_size !=0 else 0.0 # getting jaccard similarity with proper error measurement\n",
    "    \n",
    "    return jaccard_similarity\n",
    "\n",
    "set1 = set(input('Enter set1 words: ').split()) # input-> list by spliting -> set\n",
    "\n",
    "set2 = set(input('Enter set2 words: ').split())\n",
    "\n",
    "print('Jaccard similarity between two sets are: ',plagiarism_check(set1,set2))"
   ]
  },
  {
   "cell_type": "markdown",
   "id": "7b316c95",
   "metadata": {},
   "source": [
    "### Question - 7"
   ]
  },
  {
   "cell_type": "code",
   "execution_count": 45,
   "id": "9c06e496",
   "metadata": {},
   "outputs": [
    {
     "name": "stdout",
     "output_type": "stream",
     "text": [
      "Error:  Negative Money Occured!!!\n"
     ]
    }
   ],
   "source": [
    "# 3 error taking, given below \n",
    "# let bob will transfer secret money to Alice\n",
    "# Error-1: Suppose, bob will provide money tuat can't be zero \n",
    "#Error-2: Bob will provide money that can't be greater than 100 cz bob isn't that rich\n",
    "# Error-3: Bob will provide money that can't be negative obviously\n",
    "\n",
    "%xmode Plain # to keep the information after a exception hits less text\n",
    "\n",
    "import random \n",
    "\n",
    "def bob_provide_value():\n",
    "    \n",
    "    transaction_value = random.randint(-100,100) # generating random money\n",
    "    \n",
    "    if transaction_value==0: # first error\n",
    "        \n",
    "        raise Exception('Zero Money Received!!!')\n",
    "        \n",
    "    elif transaction_value <0: # second error\n",
    "        \n",
    "        raise Exception('Negative Money Occured!!!')\n",
    "        \n",
    "    elif transaction_value >100: # third error\n",
    "        \n",
    "        raise Exception('Tried to give over money that Bob own!!!')\n",
    "        \n",
    "    else: # if no error occured \n",
    "         \n",
    "        print('Money received: ',transaction_value,'$')\n",
    "        \n",
    "\n",
    "    return transaction_value\n",
    "\n",
    "\n",
    "def alice_log(): # alice logging\n",
    "    \n",
    "    try: # handling error\n",
    "        \n",
    "        value = bob_provide_value()\n",
    "    \n",
    "    except Exception as e:\n",
    "        \n",
    "        print('Error: ',e)\n",
    "\n",
    "alice_log()\n",
    "        "
   ]
  },
  {
   "cell_type": "markdown",
   "id": "8d126546",
   "metadata": {},
   "source": [
    "### Question - 8"
   ]
  },
  {
   "cell_type": "code",
   "execution_count": 26,
   "id": "66665a75",
   "metadata": {},
   "outputs": [
    {
     "name": "stdout",
     "output_type": "stream",
     "text": [
      "n = 4\n",
      "   *\n",
      "  ***\n",
      " *****\n",
      "*******\n"
     ]
    }
   ],
   "source": [
    "n = int(input('n = ')) # For taking input \n",
    "\n",
    "odd_nums = [2*i-1 for i in range(1,n+1)] # generating the odd numbers to print in each row, by using the formula 2^n-1 \n",
    "\n",
    "space = n-1 # here first row space will be n - 1 by taking look at the sample output given\n",
    "\n",
    "for i in range(n):\n",
    "        \n",
    "    print(' '*space+'*'*odd_nums[i]) # space + *\n",
    "        \n",
    "    space -=1 # in each row space will decease by 1\n",
    "    \n",
    "    "
   ]
  },
  {
   "cell_type": "code",
   "execution_count": null,
   "id": "bf884c0f",
   "metadata": {},
   "outputs": [],
   "source": []
  }
 ],
 "metadata": {
  "kernelspec": {
   "display_name": "Python 3 (ipykernel)",
   "language": "python",
   "name": "python3"
  },
  "language_info": {
   "codemirror_mode": {
    "name": "ipython",
    "version": 3
   },
   "file_extension": ".py",
   "mimetype": "text/x-python",
   "name": "python",
   "nbconvert_exporter": "python",
   "pygments_lexer": "ipython3",
   "version": "3.11.5"
  }
 },
 "nbformat": 4,
 "nbformat_minor": 5
}
